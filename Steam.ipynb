{
 "cells": [
  {
   "cell_type": "markdown",
   "id": "a0535704",
   "metadata": {},
   "source": [
    "## Introduction\n",
    "\n",
    "Steam is the largest digital distribution platform for PC gaming. This project explores what features (e.g., price, genre, playtime) correlate with game popularity on Steam.\n",
    "\n",
    "We aim to answer questions like:\n",
    "- What makes a game popular?\n",
    "- Does price affect ratings?\n",
    "- Which genres have the longest playtime?\n"
   ]
  },
  {
   "cell_type": "markdown",
   "id": "0ae0b5d8",
   "metadata": {},
   "source": [
    "## Data Loading and Initial Inspection\n",
    "\n",
    "We begin by importing the dataset and exploring its structure. This includes checking for missing values, data types, and getting a sense of the overall contents.\n"
   ]
  },
  {
   "cell_type": "code",
   "execution_count": 5,
   "id": "d6882f8b",
   "metadata": {},
   "outputs": [
    {
     "name": "stdout",
     "output_type": "stream",
     "text": [
      "   appid                       name release_date  english         developer  \\\n",
      "0     10             Counter-Strike   2000-11-01        1             Valve   \n",
      "1     20      Team Fortress Classic   1999-04-01        1             Valve   \n",
      "2     30              Day of Defeat   2003-05-01        1             Valve   \n",
      "3     40         Deathmatch Classic   2001-06-01        1             Valve   \n",
      "4     50  Half-Life: Opposing Force   1999-11-01        1  Gearbox Software   \n",
      "\n",
      "  publisher          platforms  required_age  \\\n",
      "0     Valve  windows;mac;linux             0   \n",
      "1     Valve  windows;mac;linux             0   \n",
      "2     Valve  windows;mac;linux             0   \n",
      "3     Valve  windows;mac;linux             0   \n",
      "4     Valve  windows;mac;linux             0   \n",
      "\n",
      "                                          categories  genres  \\\n",
      "0  Multi-player;Online Multi-Player;Local Multi-P...  Action   \n",
      "1  Multi-player;Online Multi-Player;Local Multi-P...  Action   \n",
      "2              Multi-player;Valve Anti-Cheat enabled  Action   \n",
      "3  Multi-player;Online Multi-Player;Local Multi-P...  Action   \n",
      "4  Single-player;Multi-player;Valve Anti-Cheat en...  Action   \n",
      "\n",
      "                  steamspy_tags  achievements  positive_ratings  \\\n",
      "0        Action;FPS;Multiplayer             0            124534   \n",
      "1        Action;FPS;Multiplayer             0              3318   \n",
      "2  FPS;World War II;Multiplayer             0              3416   \n",
      "3        Action;FPS;Multiplayer             0              1273   \n",
      "4             FPS;Action;Sci-fi             0              5250   \n",
      "\n",
      "   negative_ratings  average_playtime  median_playtime             owners  \\\n",
      "0              3339             17612              317  10000000-20000000   \n",
      "1               633               277               62   5000000-10000000   \n",
      "2               398               187               34   5000000-10000000   \n",
      "3               267               258              184   5000000-10000000   \n",
      "4               288               624              415   5000000-10000000   \n",
      "\n",
      "   price  \n",
      "0   7.19  \n",
      "1   3.99  \n",
      "2   3.99  \n",
      "3   3.99  \n",
      "4   3.99  \n"
     ]
    }
   ],
   "source": [
    "import pandas as pd\n",
    "\n",
    "# Load the file with the correct encoding\n",
    "df = pd.read_csv(\"steam.csv\", encoding=\"latin1\")\n",
    "\n",
    "# Preview the first few rows\n",
    "print(df.head())\n"
   ]
  },
  {
   "cell_type": "markdown",
   "id": "3d634079",
   "metadata": {},
   "source": [
    "## Data Cleaning and Preparation\n",
    "\n",
    "To prepare the data for analysis, we:\n",
    "- Convert `release_date` to proper datetime format.\n",
    "- Parse `owners` (a range string like \"50000-100000\") into a numeric midpoint.\n",
    "- Extract the primary genre from the semicolon-separated `genres` column.\n",
    "- Handle any missing or inconsistent values.\n"
   ]
  },
  {
   "cell_type": "code",
   "execution_count": 6,
   "id": "35703eea",
   "metadata": {},
   "outputs": [],
   "source": [
    "df['release_date'] = pd.to_datetime(df['release_date'], errors='coerce')\n",
    "\n",
    "# Convert owners range to numeric midpoint\n",
    "def owners_midpoint(owners_range):\n",
    "    if pd.isnull(owners_range): return None\n",
    "    low, high = owners_range.split('-')\n",
    "    return (int(low) + int(high)) // 2\n",
    "\n",
    "df['owners_mid'] = df['owners'].apply(owners_midpoint)\n"
   ]
  },
  {
   "cell_type": "markdown",
   "id": "b2e41e91",
   "metadata": {},
   "source": [
    "### Top 10 Most Positively Rated Games\n",
    "\n",
    "Let’s look at the top 10 games based on the number of positive ratings.\n",
    "\n",
    "This gives us an idea of which titles have the highest community approval and can help identify common characteristics among popular games.\n"
   ]
  },
  {
   "cell_type": "code",
   "execution_count": 7,
   "id": "31a00fc8",
   "metadata": {},
   "outputs": [
    {
     "data": {
      "text/html": [
       "<div>\n",
       "<style scoped>\n",
       "    .dataframe tbody tr th:only-of-type {\n",
       "        vertical-align: middle;\n",
       "    }\n",
       "\n",
       "    .dataframe tbody tr th {\n",
       "        vertical-align: top;\n",
       "    }\n",
       "\n",
       "    .dataframe thead th {\n",
       "        text-align: right;\n",
       "    }\n",
       "</style>\n",
       "<table border=\"1\" class=\"dataframe\">\n",
       "  <thead>\n",
       "    <tr style=\"text-align: right;\">\n",
       "      <th></th>\n",
       "      <th>name</th>\n",
       "      <th>positive_ratings</th>\n",
       "      <th>negative_ratings</th>\n",
       "    </tr>\n",
       "  </thead>\n",
       "  <tbody>\n",
       "    <tr>\n",
       "      <th>25</th>\n",
       "      <td>Counter-Strike: Global Offensive</td>\n",
       "      <td>2644404</td>\n",
       "      <td>402313</td>\n",
       "    </tr>\n",
       "    <tr>\n",
       "      <th>22</th>\n",
       "      <td>Dota 2</td>\n",
       "      <td>863507</td>\n",
       "      <td>142079</td>\n",
       "    </tr>\n",
       "    <tr>\n",
       "      <th>19</th>\n",
       "      <td>Team Fortress 2</td>\n",
       "      <td>515879</td>\n",
       "      <td>34036</td>\n",
       "    </tr>\n",
       "    <tr>\n",
       "      <th>12836</th>\n",
       "      <td>PLAYERUNKNOWN'S BATTLEGROUNDS</td>\n",
       "      <td>496184</td>\n",
       "      <td>487076</td>\n",
       "    </tr>\n",
       "    <tr>\n",
       "      <th>121</th>\n",
       "      <td>Garry's Mod</td>\n",
       "      <td>363721</td>\n",
       "      <td>16433</td>\n",
       "    </tr>\n",
       "    <tr>\n",
       "      <th>2478</th>\n",
       "      <td>Grand Theft Auto V</td>\n",
       "      <td>329061</td>\n",
       "      <td>139308</td>\n",
       "    </tr>\n",
       "    <tr>\n",
       "      <th>1467</th>\n",
       "      <td>PAYDAY 2</td>\n",
       "      <td>308657</td>\n",
       "      <td>56523</td>\n",
       "    </tr>\n",
       "    <tr>\n",
       "      <th>3362</th>\n",
       "      <td>Unturned</td>\n",
       "      <td>292574</td>\n",
       "      <td>31482</td>\n",
       "    </tr>\n",
       "    <tr>\n",
       "      <th>1120</th>\n",
       "      <td>Terraria</td>\n",
       "      <td>255600</td>\n",
       "      <td>7797</td>\n",
       "    </tr>\n",
       "    <tr>\n",
       "      <th>21</th>\n",
       "      <td>Left 4 Dead 2</td>\n",
       "      <td>251789</td>\n",
       "      <td>8418</td>\n",
       "    </tr>\n",
       "  </tbody>\n",
       "</table>\n",
       "</div>"
      ],
      "text/plain": [
       "                                   name  positive_ratings  negative_ratings\n",
       "25     Counter-Strike: Global Offensive           2644404            402313\n",
       "22                               Dota 2            863507            142079\n",
       "19                      Team Fortress 2            515879             34036\n",
       "12836     PLAYERUNKNOWN'S BATTLEGROUNDS            496184            487076\n",
       "121                         Garry's Mod            363721             16433\n",
       "2478                 Grand Theft Auto V            329061            139308\n",
       "1467                           PAYDAY 2            308657             56523\n",
       "3362                           Unturned            292574             31482\n",
       "1120                           Terraria            255600              7797\n",
       "21                        Left 4 Dead 2            251789              8418"
      ]
     },
     "execution_count": 7,
     "metadata": {},
     "output_type": "execute_result"
    }
   ],
   "source": [
    "df.sort_values(by='positive_ratings', ascending=False).head(10)[['name', 'positive_ratings', 'negative_ratings']]\n"
   ]
  },
  {
   "cell_type": "markdown",
   "id": "dfd721d0",
   "metadata": {},
   "source": [
    "## Exploratory Data Analysis (EDA)\n",
    "\n",
    "Now we explore key statistics and visualizations to uncover patterns:\n",
    "- Which games are the most highly rated?\n",
    "- How do price and playtime relate to ratings?\n",
    "- Are there outliers or unexpected trends?\n"
   ]
  },
  {
   "cell_type": "code",
   "execution_count": 8,
   "id": "3502da18",
   "metadata": {},
   "outputs": [
    {
     "data": {
      "text/plain": [
       "<Axes: xlabel='price', ylabel='positive_ratings'>"
      ]
     },
     "execution_count": 8,
     "metadata": {},
     "output_type": "execute_result"
    },
    {
     "data": {
      "image/png": "[encoded data removed]",
      "text/plain": [
       "<Figure size 640x480 with 1 Axes>"
      ]
     },
     "metadata": {},
     "output_type": "display_data"
    }
   ],
   "source": [
    "df.plot.scatter(x='price', y='positive_ratings', alpha=0.4)\n"
   ]
  },
  {
   "cell_type": "code",
   "execution_count": 9,
   "id": "af1ca148",
   "metadata": {},
   "outputs": [
    {
     "data": {
      "text/plain": [
       "<Axes: xlabel='average_playtime', ylabel='positive_ratings'>"
      ]
     },
     "execution_count": 9,
     "metadata": {},
     "output_type": "execute_result"
    },
    {
     "data": {
      "image/png": "[encoded data removed]",
      "text/plain": [
       "<Figure size 640x480 with 1 Axes>"
      ]
     },
     "metadata": {},
     "output_type": "display_data"
    }
   ],
   "source": [
    "df.plot.scatter(x='average_playtime', y='positive_ratings', alpha=0.4)\n"
   ]
  },
  {
   "cell_type": "markdown",
   "id": "55dfcfcf",
   "metadata": {},
   "source": [
    "## Genre and Tag Insights\n",
    "\n",
    "In this section, we analyze:\n",
    "- The most common genres and tags in the dataset.\n",
    "- Average playtime and ratings by genre.\n",
    "- How different tags may correlate with popularity or playtime.\n"
   ]
  },
  {
   "cell_type": "code",
   "execution_count": 10,
   "id": "c0efe588",
   "metadata": {},
   "outputs": [
    {
     "data": {
      "text/html": [
       "<div>\n",
       "<style scoped>\n",
       "    .dataframe tbody tr th:only-of-type {\n",
       "        vertical-align: middle;\n",
       "    }\n",
       "\n",
       "    .dataframe tbody tr th {\n",
       "        vertical-align: top;\n",
       "    }\n",
       "\n",
       "    .dataframe thead th {\n",
       "        text-align: right;\n",
       "    }\n",
       "</style>\n",
       "<table border=\"1\" class=\"dataframe\">\n",
       "  <thead>\n",
       "    <tr style=\"text-align: right;\">\n",
       "      <th></th>\n",
       "      <th>Tag</th>\n",
       "      <th>Count</th>\n",
       "    </tr>\n",
       "  </thead>\n",
       "  <tbody>\n",
       "    <tr>\n",
       "      <th>0</th>\n",
       "      <td>Indie</td>\n",
       "      <td>16232</td>\n",
       "    </tr>\n",
       "    <tr>\n",
       "      <th>1</th>\n",
       "      <td>Action</td>\n",
       "      <td>10322</td>\n",
       "    </tr>\n",
       "    <tr>\n",
       "      <th>2</th>\n",
       "      <td>Casual</td>\n",
       "      <td>8205</td>\n",
       "    </tr>\n",
       "    <tr>\n",
       "      <th>3</th>\n",
       "      <td>Adventure</td>\n",
       "      <td>7770</td>\n",
       "    </tr>\n",
       "    <tr>\n",
       "      <th>4</th>\n",
       "      <td>Strategy</td>\n",
       "      <td>4173</td>\n",
       "    </tr>\n",
       "    <tr>\n",
       "      <th>5</th>\n",
       "      <td>Simulation</td>\n",
       "      <td>3284</td>\n",
       "    </tr>\n",
       "    <tr>\n",
       "      <th>6</th>\n",
       "      <td>Early Access</td>\n",
       "      <td>2967</td>\n",
       "    </tr>\n",
       "    <tr>\n",
       "      <th>7</th>\n",
       "      <td>RPG</td>\n",
       "      <td>2785</td>\n",
       "    </tr>\n",
       "    <tr>\n",
       "      <th>8</th>\n",
       "      <td>Free to Play</td>\n",
       "      <td>1662</td>\n",
       "    </tr>\n",
       "    <tr>\n",
       "      <th>9</th>\n",
       "      <td>Puzzle</td>\n",
       "      <td>1116</td>\n",
       "    </tr>\n",
       "  </tbody>\n",
       "</table>\n",
       "</div>"
      ],
      "text/plain": [
       "            Tag  Count\n",
       "0         Indie  16232\n",
       "1        Action  10322\n",
       "2        Casual   8205\n",
       "3     Adventure   7770\n",
       "4      Strategy   4173\n",
       "5    Simulation   3284\n",
       "6  Early Access   2967\n",
       "7           RPG   2785\n",
       "8  Free to Play   1662\n",
       "9        Puzzle   1116"
      ]
     },
     "execution_count": 10,
     "metadata": {},
     "output_type": "execute_result"
    }
   ],
   "source": [
    "from collections import Counter\n",
    "\n",
    "tags = df[\"steamspy_tags\"].dropna().str.split(\";\")\n",
    "tag_counts = Counter(tag.strip() for sublist in tags for tag in sublist)\n",
    "pd.DataFrame(tag_counts.most_common(10), columns=[\"Tag\", \"Count\"])\n"
   ]
  },
  {
   "cell_type": "code",
   "execution_count": 11,
   "id": "6ce6bcec",
   "metadata": {},
   "outputs": [
    {
     "data": {
      "text/plain": [
       "genre\n",
       "Massively Multiplayer    3022.250000\n",
       "Free to Play              663.202532\n",
       "Racing                    347.071066\n",
       "RPG                       316.535627\n",
       "Photo Editing             293.000000\n",
       "Simulation                261.649762\n",
       "Strategy                  204.229323\n",
       "Utilities                 166.633333\n",
       "Adventure                 155.515601\n",
       "Action                    149.868534\n",
       "Name: average_playtime, dtype: float64"
      ]
     },
     "execution_count": 11,
     "metadata": {},
     "output_type": "execute_result"
    }
   ],
   "source": [
    "df['genre'] = df['genres'].str.split(';').str[0]  # Simplify\n",
    "df.groupby('genre')['average_playtime'].mean().sort_values(ascending=False).head(10)\n"
   ]
  },
  {
   "cell_type": "markdown",
   "id": "d36daa87",
   "metadata": {},
   "source": [
    "## Correlation Analysis\n",
    "\n",
    "We use a heatmap to explore correlations between numeric features such as:\n",
    "- Price\n",
    "- Average playtime\n",
    "- Positive and negative ratings\n",
    "- Estimated number of owners\n",
    "\n",
    "This helps us identify which variables move together and may be useful for prediction.\n"
   ]
  },
  {
   "cell_type": "code",
   "execution_count": 12,
   "id": "0a942873",
   "metadata": {},
   "outputs": [
    {
     "data": {
      "text/plain": [
       "Text(0.5, 1.0, 'Correlation Between Key Metrics')"
      ]
     },
     "execution_count": 12,
     "metadata": {},
     "output_type": "execute_result"
    },
    {
     "data": {
      "image/png": "[encoded data removed]",
      "text/plain": [
       "<Figure size 640x480 with 2 Axes>"
      ]
     },
     "metadata": {},
     "output_type": "display_data"
    }
   ],
   "source": [
    "import seaborn as sns\n",
    "import matplotlib.pyplot as plt\n",
    "\n",
    "sns.heatmap(df[['positive_ratings', 'negative_ratings', 'owners_mid', 'price', 'average_playtime']].corr(), annot=True)\n",
    "plt.title(\"Correlation Between Key Metrics\")\n"
   ]
  },
  {
   "cell_type": "markdown",
   "id": "2a08dfb1",
   "metadata": {},
   "source": [
    "## Predicting Game Popularity with Machine Learning\n",
    "\n",
    "In this section, we build a simple regression model to predict a game's estimated number of owners (`owners_mid`) based on available features.\n",
    "\n",
    "**Features used:**\n",
    "- `price`: Game's cost in USD\n",
    "- `required_age`: Minimum age requirement\n",
    "- `achievements`: Number of in-game achievements\n",
    "- `average_playtime`: Average minutes played\n",
    "\n",
    "We use a **Random Forest Regressor** from `sklearn` to fit and evaluate the model.\n"
   ]
  },
  {
   "cell_type": "code",
   "execution_count": 13,
   "id": "b220e084",
   "metadata": {},
   "outputs": [
    {
     "data": {
      "text/plain": [
       "0.6756987319749999"
      ]
     },
     "execution_count": 13,
     "metadata": {},
     "output_type": "execute_result"
    }
   ],
   "source": [
    "from sklearn.ensemble import RandomForestRegressor\n",
    "from sklearn.model_selection import train_test_split\n",
    "\n",
    "model_df = df[['price', 'required_age', 'achievements', 'average_playtime', 'owners_mid']].dropna()\n",
    "X = model_df.drop('owners_mid', axis=1)\n",
    "y = model_df['owners_mid']\n",
    "\n",
    "X_train, X_test, y_train, y_test = train_test_split(X, y, test_size=0.2, random_state=42)\n",
    "\n",
    "model = RandomForestRegressor()\n",
    "model.fit(X_train, y_train)\n",
    "model.score(X_test, y_test)\n"
   ]
  },
  {
   "cell_type": "markdown",
   "id": "e1b58b07",
   "metadata": {},
   "source": [
    "## Conclusion and Insights\n",
    "\n",
    "### Key Takeaways:\n",
    "- Positive ratings are more closely associated with playtime than price.\n",
    "- Certain genres (e.g., RPG, Strategy) tend to have longer playtimes.\n",
    "- Many of the most-owned games are older or free-to-play titles.\n",
    "\n",
    "### Limitations:\n",
    "- Owner counts are given as ranges and are approximations.\n",
    "- Reviews do not capture sentiment, just counts.\n",
    "- Game success may be influenced by external factors (e.g., marketing, IP recognition).\n",
    "\n",
    "### Next Steps:\n",
    "- Use machine learning to predict ownership or rating from features.\n",
    "- Build an interactive dashboard to explore Steam data dynamically.\n"
   ]
  }
 ],
 "metadata": {
  "kernelspec": {
   "display_name": ".venv",
   "language": "python",
   "name": "python3"
  },
  "language_info": {
   "codemirror_mode": {
    "name": "ipython",
    "version": 3
   },
   "file_extension": ".py",
   "mimetype": "text/x-python",
   "name": "python",
   "nbconvert_exporter": "python",
   "pygments_lexer": "ipython3",
   "version": "3.12.7"
  }
 },
 "nbformat": 4,
 "nbformat_minor": 5
}
